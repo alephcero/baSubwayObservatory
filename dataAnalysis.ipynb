{
 "cells": [
  {
   "cell_type": "code",
   "execution_count": 10,
   "metadata": {
    "collapsed": true
   },
   "outputs": [],
   "source": [
    "import numpy as np\n",
    "import pandas as pd\n",
    "import seaborn as sns\n",
    "import pickle\n",
    "%matplotlib inline"
   ]
  },
  {
   "cell_type": "code",
   "execution_count": 8,
   "metadata": {
    "collapsed": false
   },
   "outputs": [
    {
     "data": {
      "text/html": [
       "<div>\n",
       "<table border=\"1\" class=\"dataframe\">\n",
       "  <thead>\n",
       "    <tr style=\"text-align: right;\">\n",
       "      <th></th>\n",
       "      <th>date</th>\n",
       "      <th>line</th>\n",
       "      <th>dayType</th>\n",
       "      <th>travelId</th>\n",
       "      <th>trainId</th>\n",
       "      <th>notDispach</th>\n",
       "      <th>notDispachDetails</th>\n",
       "      <th>amountCars</th>\n",
       "      <th>dispached</th>\n",
       "      <th>time</th>\n",
       "      <th>terminal</th>\n",
       "      <th>depart</th>\n",
       "      <th>delay</th>\n",
       "      <th>delayInt</th>\n",
       "      <th>month</th>\n",
       "    </tr>\n",
       "  </thead>\n",
       "  <tbody>\n",
       "    <tr>\n",
       "      <th>0</th>\n",
       "      <td>2015-01-01</td>\n",
       "      <td>A</td>\n",
       "      <td>F</td>\n",
       "      <td>1</td>\n",
       "      <td>4</td>\n",
       "      <td>NaN</td>\n",
       "      <td>NaN</td>\n",
       "      <td>5</td>\n",
       "      <td>N</td>\n",
       "      <td>07:32:00</td>\n",
       "      <td>1</td>\n",
       "      <td>2015-01-01 07:32:00</td>\n",
       "      <td>NaT</td>\n",
       "      <td>NaN</td>\n",
       "      <td>NaN</td>\n",
       "    </tr>\n",
       "    <tr>\n",
       "      <th>1</th>\n",
       "      <td>2015-01-01</td>\n",
       "      <td>A</td>\n",
       "      <td>F</td>\n",
       "      <td>2</td>\n",
       "      <td>5</td>\n",
       "      <td>NaN</td>\n",
       "      <td>NaN</td>\n",
       "      <td>5</td>\n",
       "      <td>N</td>\n",
       "      <td>07:42:00</td>\n",
       "      <td>1</td>\n",
       "      <td>2015-01-01 07:42:00</td>\n",
       "      <td>NaT</td>\n",
       "      <td>NaN</td>\n",
       "      <td>NaN</td>\n",
       "    </tr>\n",
       "    <tr>\n",
       "      <th>2</th>\n",
       "      <td>2015-01-01</td>\n",
       "      <td>A</td>\n",
       "      <td>F</td>\n",
       "      <td>3</td>\n",
       "      <td>6</td>\n",
       "      <td>NaN</td>\n",
       "      <td>NaN</td>\n",
       "      <td>5</td>\n",
       "      <td>S</td>\n",
       "      <td>07:52:00</td>\n",
       "      <td>1</td>\n",
       "      <td>2015-01-01 07:52:00</td>\n",
       "      <td>NaT</td>\n",
       "      <td>NaN</td>\n",
       "      <td>1-2015</td>\n",
       "    </tr>\n",
       "    <tr>\n",
       "      <th>3</th>\n",
       "      <td>2015-01-01</td>\n",
       "      <td>A</td>\n",
       "      <td>F</td>\n",
       "      <td>4</td>\n",
       "      <td>1</td>\n",
       "      <td>NaN</td>\n",
       "      <td>NaN</td>\n",
       "      <td>5</td>\n",
       "      <td>S</td>\n",
       "      <td>08:00:00</td>\n",
       "      <td>1</td>\n",
       "      <td>2015-01-01 08:00:00</td>\n",
       "      <td>00:08:00</td>\n",
       "      <td>8.000000</td>\n",
       "      <td>1-2015</td>\n",
       "    </tr>\n",
       "    <tr>\n",
       "      <th>4</th>\n",
       "      <td>2015-01-01</td>\n",
       "      <td>A</td>\n",
       "      <td>F</td>\n",
       "      <td>5</td>\n",
       "      <td>2</td>\n",
       "      <td>NaN</td>\n",
       "      <td>NaN</td>\n",
       "      <td>5</td>\n",
       "      <td>S</td>\n",
       "      <td>08:09:20</td>\n",
       "      <td>1</td>\n",
       "      <td>2015-01-01 08:09:20</td>\n",
       "      <td>00:09:20</td>\n",
       "      <td>9.333333</td>\n",
       "      <td>1-2015</td>\n",
       "    </tr>\n",
       "  </tbody>\n",
       "</table>\n",
       "</div>"
      ],
      "text/plain": [
       "        date line dayType  travelId  trainId notDispach notDispachDetails  \\\n",
       "0 2015-01-01    A       F         1        4        NaN               NaN   \n",
       "1 2015-01-01    A       F         2        5        NaN               NaN   \n",
       "2 2015-01-01    A       F         3        6        NaN               NaN   \n",
       "3 2015-01-01    A       F         4        1        NaN               NaN   \n",
       "4 2015-01-01    A       F         5        2        NaN               NaN   \n",
       "\n",
       "   amountCars dispached      time  terminal              depart    delay  \\\n",
       "0           5         N  07:32:00         1 2015-01-01 07:32:00      NaT   \n",
       "1           5         N  07:42:00         1 2015-01-01 07:42:00      NaT   \n",
       "2           5         S  07:52:00         1 2015-01-01 07:52:00      NaT   \n",
       "3           5         S  08:00:00         1 2015-01-01 08:00:00 00:08:00   \n",
       "4           5         S  08:09:20         1 2015-01-01 08:09:20 00:09:20   \n",
       "\n",
       "   delayInt   month  \n",
       "0       NaN     NaN  \n",
       "1       NaN     NaN  \n",
       "2       NaN  1-2015  \n",
       "3  8.000000  1-2015  \n",
       "4  9.333333  1-2015  "
      ]
     },
     "execution_count": 8,
     "metadata": {},
     "output_type": "execute_result"
    }
   ],
   "source": [
    "subwayData = pickle.load( open( \"subwayData.p\", \"rb\" ) )\n",
    "subwayData.head()"
   ]
  },
  {
   "cell_type": "code",
   "execution_count": 2,
   "metadata": {
    "collapsed": true
   },
   "outputs": [],
   "source": [
    "#un box plot for linea por mes (filtros de dias habiles y horas pico por terminal)\n",
    "#con colores de la lineas"
   ]
  },
  {
   "cell_type": "code",
   "execution_count": 11,
   "metadata": {
    "collapsed": false
   },
   "outputs": [
    {
     "data": {
      "text/plain": [
       "<matplotlib.axes._subplots.AxesSubplot at 0x7f57b420d090>"
      ]
     },
     "execution_count": 11,
     "metadata": {},
     "output_type": "execute_result"
    },
    {
     "data": {
      "image/png": "[encoded data removed]",
      "text/plain": [
       "<matplotlib.figure.Figure at 0x7f57b70f3e50>"
      ]
     },
     "metadata": {},
     "output_type": "display_data"
    }
   ],
   "source": [
    "sns.boxplot(subwayData.delay)"
   ]
  },
  {
   "cell_type": "code",
   "execution_count": 13,
   "metadata": {
    "collapsed": false
   },
   "outputs": [
    {
     "data": {
      "text/plain": [
       "<matplotlib.axes._subplots.AxesSubplot at 0x7f5799952a10>"
      ]
     },
     "execution_count": 13,
     "metadata": {},
     "output_type": "execute_result"
    },
    {
     "data": {
      "image/png": "[encoded data removed]",
      "text/plain": [
       "<matplotlib.figure.Figure at 0x7f57bd3e0c90>"
      ]
     },
     "metadata": {},
     "output_type": "display_data"
    }
   ],
   "source": [
    "sns.boxplot(subwayData.line,subwayData.delayInt)"
   ]
  },
  {
   "cell_type": "code",
   "execution_count": 14,
   "metadata": {
    "collapsed": false
   },
   "outputs": [
    {
     "data": {
      "text/plain": [
       "<matplotlib.axes._subplots.AxesSubplot at 0x7f57a282e6d0>"
      ]
     },
     "execution_count": 14,
     "metadata": {},
     "output_type": "execute_result"
    },
    {
     "data": {
      "image/png": "[encoded data removed]",
      "text/plain": [
       "<matplotlib.figure.Figure at 0x7f57a2984050>"
      ]
     },
     "metadata": {},
     "output_type": "display_data"
    }
   ],
   "source": [
    "sns.boxplot(subwayData.month,subwayData.delayInt)"
   ]
  },
  {
   "cell_type": "code",
   "execution_count": null,
   "metadata": {
    "collapsed": true
   },
   "outputs": [],
   "source": []
  }
 ],
 "metadata": {
  "kernelspec": {
   "display_name": "Python [Root]",
   "language": "python",
   "name": "Python [Root]"
  },
  "language_info": {
   "codemirror_mode": {
    "name": "ipython",
    "version": 2
   },
   "file_extension": ".py",
   "mimetype": "text/x-python",
   "name": "python",
   "nbconvert_exporter": "python",
   "pygments_lexer": "ipython2",
   "version": "2.7.12"
  }
 },
 "nbformat": 4,
 "nbformat_minor": 0
}
