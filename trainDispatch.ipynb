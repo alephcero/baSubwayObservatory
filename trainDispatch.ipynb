{
 "cells": [
  {
   "cell_type": "code",
   "execution_count": 1,
   "metadata": {
    "collapsed": false
   },
   "outputs": [],
   "source": [
    "import pandas as pd\n",
    "import numpy as np\n",
    "import matplotlib.pyplot as plt\n",
    "%matplotlib inline"
   ]
  },
  {
   "cell_type": "code",
   "execution_count": 5,
   "metadata": {
    "collapsed": true
   },
   "outputs": [],
   "source": [
    "#there is data?\n",
    "    #if not:\n",
    "        #download data\n",
    "    #yes:\n",
    "        #check for update\n",
    "        #there is data more updated:\n",
    "            #if yes:\n",
    "                #download uploaded data\n",
    "#read data"
   ]
  },
  {
   "cell_type": "code",
   "execution_count": 2,
   "metadata": {
    "collapsed": false
   },
   "outputs": [
    {
     "name": "stderr",
     "output_type": "stream",
     "text": [
      "/home/pipe/anaconda2/lib/python2.7/site-packages/IPython/core/interactiveshell.py:2723: DtypeWarning: Columns (7,9) have mixed types. Specify dtype option on import or set low_memory=False.\n",
      "  interactivity=interactivity, compiler=compiler, result=result)\n"
     ]
    }
   ],
   "source": [
    "#read data\n",
    "data = pd.read_csv('data/subwayOriginalData.csv',sep=';')\n",
    "#select neded columns\n",
    "data = data[['FR1_FECHA','FR1_LINEA','FR1_VIAC1','FR1_SALC1','FR1_VIAC2','FR1_SALC2']]\n",
    "data.columns = ['date','line','dispached1','deparTime1','dispached2','deparTime2']\n",
    "\n",
    "#error in data for a especific date\n",
    "data.date = data.date.str.replace('/07//07/16','07/07/2016')\n",
    "data.head()\n",
    "\n",
    "#separate data frame into the two terminals\n",
    "\n",
    "#select rows and columns  corresponding to terminal 1 \n",
    "t1 = data[['date','line','deparTime1']][data.dispached1=='S'].copy()\n",
    "t1['terminal']=1\n",
    "\n",
    "\n",
    "#select rows and columns  corresponding to terminal 1 \n",
    "t2 = data[['date','line','deparTime2']][data.dispached2=='S'].copy()\n",
    "t2['terminal']=2\n",
    "\n",
    "#set same names and add by cell\n",
    "t1.columns=['date','line','deparTime','terminal']\n",
    "t2.columns=['date','line','deparTime','terminal']\n",
    "cleanData = t1.append(t2,ignore_index=True)\n",
    "\n",
    "\n",
    "#create date\n",
    "cleanData['depart']=cleanData.date  + ' ' + cleanData.deparTime\n",
    "\n",
    "#sort prior to lag\n",
    "cleanData = cleanData.sort_values(['terminal','line','depart'])\n",
    "\n",
    "pd.crosstab(cleanData.line,cleanData.terminal)\n",
    "\n",
    "#create a lag vector\n",
    "cleanData['departLag'] = cleanData.depart.shift(1)"
   ]
  },
  {
   "cell_type": "code",
   "execution_count": 3,
   "metadata": {
    "collapsed": false
   },
   "outputs": [
    {
     "data": {
      "text/html": [
       "<div>\n",
       "<table border=\"1\" class=\"dataframe\">\n",
       "  <thead>\n",
       "    <tr style=\"text-align: right;\">\n",
       "      <th></th>\n",
       "      <th>date</th>\n",
       "      <th>line</th>\n",
       "      <th>deparTime</th>\n",
       "      <th>terminal</th>\n",
       "      <th>depart</th>\n",
       "      <th>departLag</th>\n",
       "    </tr>\n",
       "  </thead>\n",
       "  <tbody>\n",
       "    <tr>\n",
       "      <th>229</th>\n",
       "      <td>01/01/2015</td>\n",
       "      <td>A</td>\n",
       "      <td>07:52:00</td>\n",
       "      <td>1</td>\n",
       "      <td>01/01/2015 07:52:00</td>\n",
       "      <td>NaN</td>\n",
       "    </tr>\n",
       "    <tr>\n",
       "      <th>230</th>\n",
       "      <td>01/01/2015</td>\n",
       "      <td>A</td>\n",
       "      <td>08:00:00</td>\n",
       "      <td>1</td>\n",
       "      <td>01/01/2015 08:00:00</td>\n",
       "      <td>01/01/2015 07:52:00</td>\n",
       "    </tr>\n",
       "    <tr>\n",
       "      <th>231</th>\n",
       "      <td>01/01/2015</td>\n",
       "      <td>A</td>\n",
       "      <td>08:09:20</td>\n",
       "      <td>1</td>\n",
       "      <td>01/01/2015 08:09:20</td>\n",
       "      <td>01/01/2015 08:00:00</td>\n",
       "    </tr>\n",
       "    <tr>\n",
       "      <th>232</th>\n",
       "      <td>01/01/2015</td>\n",
       "      <td>A</td>\n",
       "      <td>08:18:40</td>\n",
       "      <td>1</td>\n",
       "      <td>01/01/2015 08:18:40</td>\n",
       "      <td>01/01/2015 08:09:20</td>\n",
       "    </tr>\n",
       "    <tr>\n",
       "      <th>233</th>\n",
       "      <td>01/01/2015</td>\n",
       "      <td>A</td>\n",
       "      <td>08:28:00</td>\n",
       "      <td>1</td>\n",
       "      <td>01/01/2015 08:28:00</td>\n",
       "      <td>01/01/2015 08:18:40</td>\n",
       "    </tr>\n",
       "  </tbody>\n",
       "</table>\n",
       "</div>"
      ],
      "text/plain": [
       "           date line deparTime  terminal               depart  \\\n",
       "229  01/01/2015    A  07:52:00         1  01/01/2015 07:52:00   \n",
       "230  01/01/2015    A  08:00:00         1  01/01/2015 08:00:00   \n",
       "231  01/01/2015    A  08:09:20         1  01/01/2015 08:09:20   \n",
       "232  01/01/2015    A  08:18:40         1  01/01/2015 08:18:40   \n",
       "233  01/01/2015    A  08:28:00         1  01/01/2015 08:28:00   \n",
       "\n",
       "               departLag  \n",
       "229                  NaN  \n",
       "230  01/01/2015 07:52:00  \n",
       "231  01/01/2015 08:00:00  \n",
       "232  01/01/2015 08:09:20  \n",
       "233  01/01/2015 08:18:40  "
      ]
     },
     "execution_count": 3,
     "metadata": {},
     "output_type": "execute_result"
    }
   ],
   "source": [
    "cleanData.head()"
   ]
  },
  {
   "cell_type": "code",
   "execution_count": 4,
   "metadata": {
    "collapsed": false
   },
   "outputs": [
    {
     "data": {
      "text/html": [
       "<div>\n",
       "<table border=\"1\" class=\"dataframe\">\n",
       "  <thead>\n",
       "    <tr style=\"text-align: right;\">\n",
       "      <th>terminal</th>\n",
       "      <th>1</th>\n",
       "      <th>2</th>\n",
       "    </tr>\n",
       "    <tr>\n",
       "      <th>line</th>\n",
       "      <th></th>\n",
       "      <th></th>\n",
       "    </tr>\n",
       "  </thead>\n",
       "  <tbody>\n",
       "    <tr>\n",
       "      <th>A</th>\n",
       "      <td>105336</td>\n",
       "      <td>106857</td>\n",
       "    </tr>\n",
       "    <tr>\n",
       "      <th>B</th>\n",
       "      <td>114150</td>\n",
       "      <td>116020</td>\n",
       "    </tr>\n",
       "    <tr>\n",
       "      <th>C</th>\n",
       "      <td>129003</td>\n",
       "      <td>129316</td>\n",
       "    </tr>\n",
       "    <tr>\n",
       "      <th>D</th>\n",
       "      <td>124017</td>\n",
       "      <td>126561</td>\n",
       "    </tr>\n",
       "    <tr>\n",
       "      <th>E</th>\n",
       "      <td>81131</td>\n",
       "      <td>82587</td>\n",
       "    </tr>\n",
       "    <tr>\n",
       "      <th>H</th>\n",
       "      <td>75259</td>\n",
       "      <td>75683</td>\n",
       "    </tr>\n",
       "    <tr>\n",
       "      <th>P</th>\n",
       "      <td>44610</td>\n",
       "      <td>0</td>\n",
       "    </tr>\n",
       "  </tbody>\n",
       "</table>\n",
       "</div>"
      ],
      "text/plain": [
       "terminal       1       2\n",
       "line                    \n",
       "A         105336  106857\n",
       "B         114150  116020\n",
       "C         129003  129316\n",
       "D         124017  126561\n",
       "E          81131   82587\n",
       "H          75259   75683\n",
       "P          44610       0"
      ]
     },
     "execution_count": 4,
     "metadata": {},
     "output_type": "execute_result"
    }
   ],
   "source": [
    "#reindex\n",
    "cleanData.index = range(len(cleanData.index))\n",
    "#remove first row\n",
    "cleanData = cleanData.ix[1:]\n",
    "\n",
    "pd.crosstab(cleanData.line,cleanData.terminal)"
   ]
  },
  {
   "cell_type": "code",
   "execution_count": 5,
   "metadata": {
    "collapsed": false
   },
   "outputs": [
    {
     "data": {
      "text/html": [
       "<div>\n",
       "<table border=\"1\" class=\"dataframe\">\n",
       "  <thead>\n",
       "    <tr style=\"text-align: right;\">\n",
       "      <th></th>\n",
       "      <th>date</th>\n",
       "      <th>line</th>\n",
       "      <th>deparTime</th>\n",
       "      <th>terminal</th>\n",
       "      <th>depart</th>\n",
       "      <th>departLag</th>\n",
       "    </tr>\n",
       "  </thead>\n",
       "  <tbody>\n",
       "    <tr>\n",
       "      <th>1</th>\n",
       "      <td>01/01/2015</td>\n",
       "      <td>A</td>\n",
       "      <td>08:00:00</td>\n",
       "      <td>1</td>\n",
       "      <td>2015-01-01 08:00:00</td>\n",
       "      <td>2015-01-01 07:52:00</td>\n",
       "    </tr>\n",
       "    <tr>\n",
       "      <th>2</th>\n",
       "      <td>01/01/2015</td>\n",
       "      <td>A</td>\n",
       "      <td>08:09:20</td>\n",
       "      <td>1</td>\n",
       "      <td>2015-01-01 08:09:20</td>\n",
       "      <td>2015-01-01 08:00:00</td>\n",
       "    </tr>\n",
       "    <tr>\n",
       "      <th>3</th>\n",
       "      <td>01/01/2015</td>\n",
       "      <td>A</td>\n",
       "      <td>08:18:40</td>\n",
       "      <td>1</td>\n",
       "      <td>2015-01-01 08:18:40</td>\n",
       "      <td>2015-01-01 08:09:20</td>\n",
       "    </tr>\n",
       "    <tr>\n",
       "      <th>4</th>\n",
       "      <td>01/01/2015</td>\n",
       "      <td>A</td>\n",
       "      <td>08:28:00</td>\n",
       "      <td>1</td>\n",
       "      <td>2015-01-01 08:28:00</td>\n",
       "      <td>2015-01-01 08:18:40</td>\n",
       "    </tr>\n",
       "    <tr>\n",
       "      <th>5</th>\n",
       "      <td>01/01/2015</td>\n",
       "      <td>A</td>\n",
       "      <td>08:37:20</td>\n",
       "      <td>1</td>\n",
       "      <td>2015-01-01 08:37:20</td>\n",
       "      <td>2015-01-01 08:28:00</td>\n",
       "    </tr>\n",
       "  </tbody>\n",
       "</table>\n",
       "</div>"
      ],
      "text/plain": [
       "         date line deparTime  terminal              depart           departLag\n",
       "1  01/01/2015    A  08:00:00         1 2015-01-01 08:00:00 2015-01-01 07:52:00\n",
       "2  01/01/2015    A  08:09:20         1 2015-01-01 08:09:20 2015-01-01 08:00:00\n",
       "3  01/01/2015    A  08:18:40         1 2015-01-01 08:18:40 2015-01-01 08:09:20\n",
       "4  01/01/2015    A  08:28:00         1 2015-01-01 08:28:00 2015-01-01 08:18:40\n",
       "5  01/01/2015    A  08:37:20         1 2015-01-01 08:37:20 2015-01-01 08:28:00"
      ]
     },
     "execution_count": 5,
     "metadata": {},
     "output_type": "execute_result"
    }
   ],
   "source": [
    "#set date to dates format\n",
    "cleanData['depart']=cleanData.depart.map(lambda x: pd.to_datetime(x, format = '%d/%m/%Y %H:%M:%S')) #tengo que especificar que es %d/%m/%Y %H:%M:%S \n",
    "cleanData['departLag']=cleanData.departLag.map(lambda x: pd.to_datetime(x, format = '%d/%m/%Y %H:%M:%S'))\n",
    "cleanData.head()"
   ]
  },
  {
   "cell_type": "code",
   "execution_count": 6,
   "metadata": {
    "collapsed": false
   },
   "outputs": [
    {
     "data": {
      "text/html": [
       "<div>\n",
       "<table border=\"1\" class=\"dataframe\">\n",
       "  <thead>\n",
       "    <tr style=\"text-align: right;\">\n",
       "      <th></th>\n",
       "      <th>date</th>\n",
       "      <th>line</th>\n",
       "      <th>deparTime</th>\n",
       "      <th>terminal</th>\n",
       "      <th>depart</th>\n",
       "      <th>departLag</th>\n",
       "      <th>departDay</th>\n",
       "      <th>departLagDay</th>\n",
       "      <th>month</th>\n",
       "    </tr>\n",
       "  </thead>\n",
       "  <tbody>\n",
       "    <tr>\n",
       "      <th>1</th>\n",
       "      <td>01/01/2015</td>\n",
       "      <td>A</td>\n",
       "      <td>08:00:00</td>\n",
       "      <td>1</td>\n",
       "      <td>2015-01-01 08:00:00</td>\n",
       "      <td>2015-01-01 07:52:00</td>\n",
       "      <td>Thursday</td>\n",
       "      <td>Thursday</td>\n",
       "      <td>2015 01</td>\n",
       "    </tr>\n",
       "    <tr>\n",
       "      <th>2</th>\n",
       "      <td>01/01/2015</td>\n",
       "      <td>A</td>\n",
       "      <td>08:09:20</td>\n",
       "      <td>1</td>\n",
       "      <td>2015-01-01 08:09:20</td>\n",
       "      <td>2015-01-01 08:00:00</td>\n",
       "      <td>Thursday</td>\n",
       "      <td>Thursday</td>\n",
       "      <td>2015 01</td>\n",
       "    </tr>\n",
       "    <tr>\n",
       "      <th>3</th>\n",
       "      <td>01/01/2015</td>\n",
       "      <td>A</td>\n",
       "      <td>08:18:40</td>\n",
       "      <td>1</td>\n",
       "      <td>2015-01-01 08:18:40</td>\n",
       "      <td>2015-01-01 08:09:20</td>\n",
       "      <td>Thursday</td>\n",
       "      <td>Thursday</td>\n",
       "      <td>2015 01</td>\n",
       "    </tr>\n",
       "    <tr>\n",
       "      <th>4</th>\n",
       "      <td>01/01/2015</td>\n",
       "      <td>A</td>\n",
       "      <td>08:28:00</td>\n",
       "      <td>1</td>\n",
       "      <td>2015-01-01 08:28:00</td>\n",
       "      <td>2015-01-01 08:18:40</td>\n",
       "      <td>Thursday</td>\n",
       "      <td>Thursday</td>\n",
       "      <td>2015 01</td>\n",
       "    </tr>\n",
       "    <tr>\n",
       "      <th>5</th>\n",
       "      <td>01/01/2015</td>\n",
       "      <td>A</td>\n",
       "      <td>08:37:20</td>\n",
       "      <td>1</td>\n",
       "      <td>2015-01-01 08:37:20</td>\n",
       "      <td>2015-01-01 08:28:00</td>\n",
       "      <td>Thursday</td>\n",
       "      <td>Thursday</td>\n",
       "      <td>2015 01</td>\n",
       "    </tr>\n",
       "  </tbody>\n",
       "</table>\n",
       "</div>"
      ],
      "text/plain": [
       "         date line deparTime  terminal              depart  \\\n",
       "1  01/01/2015    A  08:00:00         1 2015-01-01 08:00:00   \n",
       "2  01/01/2015    A  08:09:20         1 2015-01-01 08:09:20   \n",
       "3  01/01/2015    A  08:18:40         1 2015-01-01 08:18:40   \n",
       "4  01/01/2015    A  08:28:00         1 2015-01-01 08:28:00   \n",
       "5  01/01/2015    A  08:37:20         1 2015-01-01 08:37:20   \n",
       "\n",
       "            departLag departDay departLagDay    month  \n",
       "1 2015-01-01 07:52:00  Thursday     Thursday  2015 01  \n",
       "2 2015-01-01 08:00:00  Thursday     Thursday  2015 01  \n",
       "3 2015-01-01 08:09:20  Thursday     Thursday  2015 01  \n",
       "4 2015-01-01 08:18:40  Thursday     Thursday  2015 01  \n",
       "5 2015-01-01 08:28:00  Thursday     Thursday  2015 01  "
      ]
     },
     "execution_count": 6,
     "metadata": {},
     "output_type": "execute_result"
    }
   ],
   "source": [
    "#get weekdays for both depart and lag\n",
    "cleanData['departDay'] = cleanData.depart.map(lambda x: x.strftime('%A'))\n",
    "cleanData['departLagDay'] = cleanData.departLag.map(lambda x: x.strftime('%A'))\n",
    "cleanData['month']=cleanData.depart.map(lambda x: x.strftime('%Y %m'))\n",
    "\n",
    "#remove lags between diferent days\n",
    "cleanData = cleanData[cleanData.departDay == cleanData.departLagDay]\n",
    "\n",
    "cleanData.head()"
   ]
  },
  {
   "cell_type": "code",
   "execution_count": 7,
   "metadata": {
    "collapsed": false
   },
   "outputs": [
    {
     "data": {
      "text/html": [
       "<div>\n",
       "<table border=\"1\" class=\"dataframe\">\n",
       "  <thead>\n",
       "    <tr style=\"text-align: right;\">\n",
       "      <th></th>\n",
       "      <th>date</th>\n",
       "      <th>line</th>\n",
       "      <th>deparTime</th>\n",
       "      <th>terminal</th>\n",
       "      <th>depart</th>\n",
       "      <th>departLag</th>\n",
       "      <th>departDay</th>\n",
       "      <th>departLagDay</th>\n",
       "      <th>month</th>\n",
       "      <th>gap</th>\n",
       "    </tr>\n",
       "  </thead>\n",
       "  <tbody>\n",
       "    <tr>\n",
       "      <th>1</th>\n",
       "      <td>01/01/2015</td>\n",
       "      <td>A</td>\n",
       "      <td>08:00:00</td>\n",
       "      <td>1</td>\n",
       "      <td>2015-01-01 08:00:00</td>\n",
       "      <td>2015-01-01 07:52:00</td>\n",
       "      <td>Thursday</td>\n",
       "      <td>Thursday</td>\n",
       "      <td>2015 01</td>\n",
       "      <td>00:08:00</td>\n",
       "    </tr>\n",
       "    <tr>\n",
       "      <th>90</th>\n",
       "      <td>01/01/2015</td>\n",
       "      <td>A</td>\n",
       "      <td>22:08:00</td>\n",
       "      <td>1</td>\n",
       "      <td>2015-01-01 22:08:00</td>\n",
       "      <td>2015-01-01 22:00:00</td>\n",
       "      <td>Thursday</td>\n",
       "      <td>Thursday</td>\n",
       "      <td>2015 01</td>\n",
       "      <td>00:08:00</td>\n",
       "    </tr>\n",
       "    <tr>\n",
       "      <th>92</th>\n",
       "      <td>01/01/2016</td>\n",
       "      <td>A</td>\n",
       "      <td>08:00:00</td>\n",
       "      <td>1</td>\n",
       "      <td>2016-01-01 08:00:00</td>\n",
       "      <td>2016-01-01 07:52:00</td>\n",
       "      <td>Friday</td>\n",
       "      <td>Friday</td>\n",
       "      <td>2016 01</td>\n",
       "      <td>00:08:00</td>\n",
       "    </tr>\n",
       "    <tr>\n",
       "      <th>93</th>\n",
       "      <td>01/01/2016</td>\n",
       "      <td>A</td>\n",
       "      <td>08:08:00</td>\n",
       "      <td>1</td>\n",
       "      <td>2016-01-01 08:08:00</td>\n",
       "      <td>2016-01-01 08:00:00</td>\n",
       "      <td>Friday</td>\n",
       "      <td>Friday</td>\n",
       "      <td>2016 01</td>\n",
       "      <td>00:08:00</td>\n",
       "    </tr>\n",
       "    <tr>\n",
       "      <th>94</th>\n",
       "      <td>01/01/2016</td>\n",
       "      <td>A</td>\n",
       "      <td>08:16:00</td>\n",
       "      <td>1</td>\n",
       "      <td>2016-01-01 08:16:00</td>\n",
       "      <td>2016-01-01 08:08:00</td>\n",
       "      <td>Friday</td>\n",
       "      <td>Friday</td>\n",
       "      <td>2016 01</td>\n",
       "      <td>00:08:00</td>\n",
       "    </tr>\n",
       "  </tbody>\n",
       "</table>\n",
       "</div>"
      ],
      "text/plain": [
       "          date line deparTime  terminal              depart  \\\n",
       "1   01/01/2015    A  08:00:00         1 2015-01-01 08:00:00   \n",
       "90  01/01/2015    A  22:08:00         1 2015-01-01 22:08:00   \n",
       "92  01/01/2016    A  08:00:00         1 2016-01-01 08:00:00   \n",
       "93  01/01/2016    A  08:08:00         1 2016-01-01 08:08:00   \n",
       "94  01/01/2016    A  08:16:00         1 2016-01-01 08:16:00   \n",
       "\n",
       "             departLag departDay departLagDay    month      gap  \n",
       "1  2015-01-01 07:52:00  Thursday     Thursday  2015 01 00:08:00  \n",
       "90 2015-01-01 22:00:00  Thursday     Thursday  2015 01 00:08:00  \n",
       "92 2016-01-01 07:52:00    Friday       Friday  2016 01 00:08:00  \n",
       "93 2016-01-01 08:00:00    Friday       Friday  2016 01 00:08:00  \n",
       "94 2016-01-01 08:08:00    Friday       Friday  2016 01 00:08:00  "
      ]
     },
     "execution_count": 7,
     "metadata": {},
     "output_type": "execute_result"
    }
   ],
   "source": [
    "#set the gap between each train departure\n",
    "\n",
    "#ACA NO HAY QUE DEJARLO EN MINUTO SY SEGUNDOS???????? OJO QUE ESTA EN INT\n",
    "\n",
    "cleanData['gap'] = (cleanData.depart - cleanData.departLag)\n",
    "#set outliers as those extreme 10% \n",
    "outliers = cleanData.gap.quantile([.10,.90])\n",
    "vectorOut = (cleanData.gap > outliers.iloc[0]) & (cleanData.gap < outliers.iloc[1])\n",
    "cleanData = cleanData[vectorOut]\n",
    "cleanData.head()"
   ]
  },
  {
   "cell_type": "code",
   "execution_count": 8,
   "metadata": {
    "collapsed": true
   },
   "outputs": [],
   "source": [
    "cleanData['gapInt'] = cleanData.gap / np.timedelta64(1, 'm')\n",
    "cleanData['hourDepart'] = cleanData.departLag.map(lambda x: x.hour)"
   ]
  },
  {
   "cell_type": "code",
   "execution_count": 9,
   "metadata": {
    "collapsed": false
   },
   "outputs": [
    {
     "data": {
      "text/html": [
       "<div>\n",
       "<table border=\"1\" class=\"dataframe\">\n",
       "  <thead>\n",
       "    <tr style=\"text-align: right;\">\n",
       "      <th></th>\n",
       "      <th>date</th>\n",
       "      <th>line</th>\n",
       "      <th>deparTime</th>\n",
       "      <th>terminal</th>\n",
       "      <th>depart</th>\n",
       "      <th>departLag</th>\n",
       "      <th>departDay</th>\n",
       "      <th>departLagDay</th>\n",
       "      <th>month</th>\n",
       "      <th>gap</th>\n",
       "      <th>gapInt</th>\n",
       "      <th>hourDepart</th>\n",
       "      <th>rushMorn</th>\n",
       "      <th>rushAftern</th>\n",
       "    </tr>\n",
       "  </thead>\n",
       "  <tbody>\n",
       "    <tr>\n",
       "      <th>1</th>\n",
       "      <td>01/01/2015</td>\n",
       "      <td>A</td>\n",
       "      <td>08:00:00</td>\n",
       "      <td>1</td>\n",
       "      <td>2015-01-01 08:00:00</td>\n",
       "      <td>2015-01-01 07:52:00</td>\n",
       "      <td>Thursday</td>\n",
       "      <td>Thursday</td>\n",
       "      <td>2015 01</td>\n",
       "      <td>00:08:00</td>\n",
       "      <td>8.0</td>\n",
       "      <td>7</td>\n",
       "      <td>False</td>\n",
       "      <td>False</td>\n",
       "    </tr>\n",
       "    <tr>\n",
       "      <th>90</th>\n",
       "      <td>01/01/2015</td>\n",
       "      <td>A</td>\n",
       "      <td>22:08:00</td>\n",
       "      <td>1</td>\n",
       "      <td>2015-01-01 22:08:00</td>\n",
       "      <td>2015-01-01 22:00:00</td>\n",
       "      <td>Thursday</td>\n",
       "      <td>Thursday</td>\n",
       "      <td>2015 01</td>\n",
       "      <td>00:08:00</td>\n",
       "      <td>8.0</td>\n",
       "      <td>22</td>\n",
       "      <td>False</td>\n",
       "      <td>False</td>\n",
       "    </tr>\n",
       "    <tr>\n",
       "      <th>92</th>\n",
       "      <td>01/01/2016</td>\n",
       "      <td>A</td>\n",
       "      <td>08:00:00</td>\n",
       "      <td>1</td>\n",
       "      <td>2016-01-01 08:00:00</td>\n",
       "      <td>2016-01-01 07:52:00</td>\n",
       "      <td>Friday</td>\n",
       "      <td>Friday</td>\n",
       "      <td>2016 01</td>\n",
       "      <td>00:08:00</td>\n",
       "      <td>8.0</td>\n",
       "      <td>7</td>\n",
       "      <td>False</td>\n",
       "      <td>False</td>\n",
       "    </tr>\n",
       "    <tr>\n",
       "      <th>93</th>\n",
       "      <td>01/01/2016</td>\n",
       "      <td>A</td>\n",
       "      <td>08:08:00</td>\n",
       "      <td>1</td>\n",
       "      <td>2016-01-01 08:08:00</td>\n",
       "      <td>2016-01-01 08:00:00</td>\n",
       "      <td>Friday</td>\n",
       "      <td>Friday</td>\n",
       "      <td>2016 01</td>\n",
       "      <td>00:08:00</td>\n",
       "      <td>8.0</td>\n",
       "      <td>8</td>\n",
       "      <td>True</td>\n",
       "      <td>False</td>\n",
       "    </tr>\n",
       "    <tr>\n",
       "      <th>94</th>\n",
       "      <td>01/01/2016</td>\n",
       "      <td>A</td>\n",
       "      <td>08:16:00</td>\n",
       "      <td>1</td>\n",
       "      <td>2016-01-01 08:16:00</td>\n",
       "      <td>2016-01-01 08:08:00</td>\n",
       "      <td>Friday</td>\n",
       "      <td>Friday</td>\n",
       "      <td>2016 01</td>\n",
       "      <td>00:08:00</td>\n",
       "      <td>8.0</td>\n",
       "      <td>8</td>\n",
       "      <td>True</td>\n",
       "      <td>False</td>\n",
       "    </tr>\n",
       "  </tbody>\n",
       "</table>\n",
       "</div>"
      ],
      "text/plain": [
       "          date line deparTime  terminal              depart  \\\n",
       "1   01/01/2015    A  08:00:00         1 2015-01-01 08:00:00   \n",
       "90  01/01/2015    A  22:08:00         1 2015-01-01 22:08:00   \n",
       "92  01/01/2016    A  08:00:00         1 2016-01-01 08:00:00   \n",
       "93  01/01/2016    A  08:08:00         1 2016-01-01 08:08:00   \n",
       "94  01/01/2016    A  08:16:00         1 2016-01-01 08:16:00   \n",
       "\n",
       "             departLag departDay departLagDay    month      gap  gapInt  \\\n",
       "1  2015-01-01 07:52:00  Thursday     Thursday  2015 01 00:08:00     8.0   \n",
       "90 2015-01-01 22:00:00  Thursday     Thursday  2015 01 00:08:00     8.0   \n",
       "92 2016-01-01 07:52:00    Friday       Friday  2016 01 00:08:00     8.0   \n",
       "93 2016-01-01 08:00:00    Friday       Friday  2016 01 00:08:00     8.0   \n",
       "94 2016-01-01 08:08:00    Friday       Friday  2016 01 00:08:00     8.0   \n",
       "\n",
       "    hourDepart rushMorn rushAftern  \n",
       "1            7    False      False  \n",
       "90          22    False      False  \n",
       "92           7    False      False  \n",
       "93           8     True      False  \n",
       "94           8     True      False  "
      ]
     },
     "execution_count": 9,
     "metadata": {},
     "output_type": "execute_result"
    }
   ],
   "source": [
    "#crear rushAftern booleano\n",
    "cleanData['rushMorn'] = (cleanData['hourDepart'] == 8) | (cleanData['hourDepart'] == 9)\n",
    "cleanData['rushAftern'] = (cleanData['hourDepart'] == 18) | (cleanData['hourDepart'] == 19)\n",
    "cleanData.head()\n",
    "#crear rushMorn\n"
   ]
  },
  {
   "cell_type": "code",
   "execution_count": 13,
   "metadata": {
    "collapsed": false,
    "scrolled": true
   },
   "outputs": [
    {
     "data": {
      "text/html": [
       "<div>\n",
       "<table border=\"1\" class=\"dataframe\">\n",
       "  <thead>\n",
       "    <tr style=\"text-align: right;\">\n",
       "      <th></th>\n",
       "      <th>line</th>\n",
       "      <th>terminal</th>\n",
       "      <th>departDay</th>\n",
       "      <th>month</th>\n",
       "      <th>gapInt</th>\n",
       "      <th>hourDepart</th>\n",
       "      <th>rushMorn</th>\n",
       "      <th>rushAftern</th>\n",
       "    </tr>\n",
       "  </thead>\n",
       "  <tbody>\n",
       "    <tr>\n",
       "      <th>1</th>\n",
       "      <td>A</td>\n",
       "      <td>1</td>\n",
       "      <td>Thursday</td>\n",
       "      <td>2015 01</td>\n",
       "      <td>8.0</td>\n",
       "      <td>7</td>\n",
       "      <td>False</td>\n",
       "      <td>False</td>\n",
       "    </tr>\n",
       "    <tr>\n",
       "      <th>90</th>\n",
       "      <td>A</td>\n",
       "      <td>1</td>\n",
       "      <td>Thursday</td>\n",
       "      <td>2015 01</td>\n",
       "      <td>8.0</td>\n",
       "      <td>22</td>\n",
       "      <td>False</td>\n",
       "      <td>False</td>\n",
       "    </tr>\n",
       "    <tr>\n",
       "      <th>92</th>\n",
       "      <td>A</td>\n",
       "      <td>1</td>\n",
       "      <td>Friday</td>\n",
       "      <td>2016 01</td>\n",
       "      <td>8.0</td>\n",
       "      <td>7</td>\n",
       "      <td>False</td>\n",
       "      <td>False</td>\n",
       "    </tr>\n",
       "    <tr>\n",
       "      <th>93</th>\n",
       "      <td>A</td>\n",
       "      <td>1</td>\n",
       "      <td>Friday</td>\n",
       "      <td>2016 01</td>\n",
       "      <td>8.0</td>\n",
       "      <td>8</td>\n",
       "      <td>True</td>\n",
       "      <td>False</td>\n",
       "    </tr>\n",
       "    <tr>\n",
       "      <th>94</th>\n",
       "      <td>A</td>\n",
       "      <td>1</td>\n",
       "      <td>Friday</td>\n",
       "      <td>2016 01</td>\n",
       "      <td>8.0</td>\n",
       "      <td>8</td>\n",
       "      <td>True</td>\n",
       "      <td>False</td>\n",
       "    </tr>\n",
       "  </tbody>\n",
       "</table>\n",
       "</div>"
      ],
      "text/plain": [
       "   line  terminal departDay    month  gapInt  hourDepart rushMorn rushAftern\n",
       "1     A         1  Thursday  2015 01     8.0           7    False      False\n",
       "90    A         1  Thursday  2015 01     8.0          22    False      False\n",
       "92    A         1    Friday  2016 01     8.0           7    False      False\n",
       "93    A         1    Friday  2016 01     8.0           8     True      False\n",
       "94    A         1    Friday  2016 01     8.0           8     True      False"
      ]
     },
     "execution_count": 13,
     "metadata": {},
     "output_type": "execute_result"
    }
   ],
   "source": [
    "cleanData.drop(['date','deparTime','depart','departLag','departLagDay','gap'], axis = 1,inplace=True)\n",
    "cleanData.head()\n"
   ]
  },
  {
   "cell_type": "code",
   "execution_count": 19,
   "metadata": {
    "collapsed": false
   },
   "outputs": [],
   "source": [
    "weekendDay = (cleanData.departDay == 'Saturday') | (cleanData.departDay == 'Sunday' )\n",
    "cleanData = cleanData.loc[~weekendDay]"
   ]
  },
  {
   "cell_type": "code",
   "execution_count": 21,
   "metadata": {
    "collapsed": false
   },
   "outputs": [
    {
     "data": {
      "text/plain": [
       "OrderedDict([('gapInt',\n",
       "              <matplotlib.axes._subplots.AxesSubplot at 0x7f68b51e9c50>)])"
      ]
     },
     "execution_count": 21,
     "metadata": {},
     "output_type": "execute_result"
    },
    {
     "data": {
      "image/png": "[encoded data removed]",
      "text/plain": [
       "<matplotlib.figure.Figure at 0x7f68b51e9710>"
      ]
     },
     "metadata": {},
     "output_type": "display_data"
    }
   ],
   "source": [
    "cleanData.boxplot(column='gapInt',by=['month'], return_type='axes')"
   ]
  },
  {
   "cell_type": "code",
   "execution_count": 24,
   "metadata": {
    "collapsed": false
   },
   "outputs": [],
   "source": [
    "monthlyDep = cleanData.groupby(['month','line','terminal']).describe()\n",
    "#is a data frame with una column, index are months\n",
    "#monthlyDep.mean()\n",
    "\n",
    "#.loc['2015 01'], .loc['A'] .loc['1']\n"
   ]
  },
  {
   "cell_type": "code",
   "execution_count": 29,
   "metadata": {
    "collapsed": false
   },
   "outputs": [
    {
     "data": {
      "text/html": [
       "<div>\n",
       "<table border=\"1\" class=\"dataframe\">\n",
       "  <thead>\n",
       "    <tr style=\"text-align: right;\">\n",
       "      <th></th>\n",
       "      <th>line</th>\n",
       "      <th>terminal</th>\n",
       "      <th>departDay</th>\n",
       "      <th>month</th>\n",
       "      <th>gapInt</th>\n",
       "      <th>hourDepart</th>\n",
       "      <th>rushMorn</th>\n",
       "      <th>rushAftern</th>\n",
       "    </tr>\n",
       "  </thead>\n",
       "  <tbody>\n",
       "    <tr>\n",
       "      <th>1</th>\n",
       "      <td>A</td>\n",
       "      <td>1</td>\n",
       "      <td>Thursday</td>\n",
       "      <td>2015 01</td>\n",
       "      <td>8.0</td>\n",
       "      <td>7</td>\n",
       "      <td>False</td>\n",
       "      <td>False</td>\n",
       "    </tr>\n",
       "    <tr>\n",
       "      <th>90</th>\n",
       "      <td>A</td>\n",
       "      <td>1</td>\n",
       "      <td>Thursday</td>\n",
       "      <td>2015 01</td>\n",
       "      <td>8.0</td>\n",
       "      <td>22</td>\n",
       "      <td>False</td>\n",
       "      <td>False</td>\n",
       "    </tr>\n",
       "    <tr>\n",
       "      <th>92</th>\n",
       "      <td>A</td>\n",
       "      <td>1</td>\n",
       "      <td>Friday</td>\n",
       "      <td>2016 01</td>\n",
       "      <td>8.0</td>\n",
       "      <td>7</td>\n",
       "      <td>False</td>\n",
       "      <td>False</td>\n",
       "    </tr>\n",
       "    <tr>\n",
       "      <th>93</th>\n",
       "      <td>A</td>\n",
       "      <td>1</td>\n",
       "      <td>Friday</td>\n",
       "      <td>2016 01</td>\n",
       "      <td>8.0</td>\n",
       "      <td>8</td>\n",
       "      <td>True</td>\n",
       "      <td>False</td>\n",
       "    </tr>\n",
       "    <tr>\n",
       "      <th>94</th>\n",
       "      <td>A</td>\n",
       "      <td>1</td>\n",
       "      <td>Friday</td>\n",
       "      <td>2016 01</td>\n",
       "      <td>8.0</td>\n",
       "      <td>8</td>\n",
       "      <td>True</td>\n",
       "      <td>False</td>\n",
       "    </tr>\n",
       "  </tbody>\n",
       "</table>\n",
       "</div>"
      ],
      "text/plain": [
       "   line  terminal departDay    month  gapInt  hourDepart rushMorn rushAftern\n",
       "1     A         1  Thursday  2015 01     8.0           7    False      False\n",
       "90    A         1  Thursday  2015 01     8.0          22    False      False\n",
       "92    A         1    Friday  2016 01     8.0           7    False      False\n",
       "93    A         1    Friday  2016 01     8.0           8     True      False\n",
       "94    A         1    Friday  2016 01     8.0           8     True      False"
      ]
     },
     "execution_count": 29,
     "metadata": {},
     "output_type": "execute_result"
    }
   ],
   "source": [
    "cleanData.head()"
   ]
  },
  {
   "cell_type": "code",
   "execution_count": 100,
   "metadata": {
    "collapsed": false,
    "scrolled": true
   },
   "outputs": [
    {
     "data": {
      "text/html": [
       "<div>\n",
       "<table border=\"1\" class=\"dataframe\">\n",
       "  <thead>\n",
       "    <tr style=\"text-align: right;\">\n",
       "      <th>terminal</th>\n",
       "      <th>1</th>\n",
       "      <th>2</th>\n",
       "    </tr>\n",
       "    <tr>\n",
       "      <th>line</th>\n",
       "      <th></th>\n",
       "      <th></th>\n",
       "    </tr>\n",
       "  </thead>\n",
       "  <tbody>\n",
       "    <tr>\n",
       "      <th>A</th>\n",
       "      <td>81860</td>\n",
       "      <td>82476</td>\n",
       "    </tr>\n",
       "    <tr>\n",
       "      <th>B</th>\n",
       "      <td>78690</td>\n",
       "      <td>80045</td>\n",
       "    </tr>\n",
       "    <tr>\n",
       "      <th>C</th>\n",
       "      <td>87635</td>\n",
       "      <td>88055</td>\n",
       "    </tr>\n",
       "    <tr>\n",
       "      <th>D</th>\n",
       "      <td>70464</td>\n",
       "      <td>71290</td>\n",
       "    </tr>\n",
       "    <tr>\n",
       "      <th>E</th>\n",
       "      <td>49505</td>\n",
       "      <td>48454</td>\n",
       "    </tr>\n",
       "    <tr>\n",
       "      <th>H</th>\n",
       "      <td>49086</td>\n",
       "      <td>49615</td>\n",
       "    </tr>\n",
       "    <tr>\n",
       "      <th>P</th>\n",
       "      <td>8942</td>\n",
       "      <td>0</td>\n",
       "    </tr>\n",
       "  </tbody>\n",
       "</table>\n",
       "</div>"
      ],
      "text/plain": [
       "terminal      1      2\n",
       "line                  \n",
       "A         81860  82476\n",
       "B         78690  80045\n",
       "C         87635  88055\n",
       "D         70464  71290\n",
       "E         49505  48454\n",
       "H         49086  49615\n",
       "P          8942      0"
      ]
     },
     "execution_count": 100,
     "metadata": {},
     "output_type": "execute_result"
    }
   ],
   "source": [
    "#plot de todas las lineas con plot box historico pero de terminal 1 a la mañana y terminal 2 a la tarde\n",
    "lines = cleanData.line.unique()\n",
    "terminals = cleanData.terminal.unique()\n",
    "months = np.sort(cleanData.month.unique())\n",
    "colors = ['lightskyblue','red','navy','forestgreen','darkviolet','yellow','brown',]\n",
    "#RESOLVER ESTO DEL LOOP Y BOXPLOT\n",
    "\n",
    "pd.crosstab(cleanData.line,cleanData.terminal)\n",
    "\n",
    "\n"
   ]
  },
  {
   "cell_type": "code",
   "execution_count": 109,
   "metadata": {
    "collapsed": false
   },
   "outputs": [
    {
     "data": {
      "image/png": "[encoded data removed]",
      "text/plain": [
       "<matplotlib.figure.Figure at 0x7f68834af2d0>"
      ]
     },
     "metadata": {},
     "output_type": "display_data"
    }
   ],
   "source": [
    "fig = plt.figure(figsize=(20,40))\n",
    "plotId = 1\n",
    "for lineId in range(len(lines)):\n",
    "    \n",
    "    for i in [1,2]:\n",
    "    #terminal 1 es de maniana, periferica. P no tiene 2\n",
    "\n",
    "        line = lines[lineId]\n",
    "        color = colors[lineId]\n",
    "        terminal = i\n",
    "        monthList = []\n",
    "\n",
    "        for month in months:\n",
    "            selection = (cleanData.line == line) & (cleanData.terminal == terminal) & (cleanData.month == month)\n",
    "            #PARA LA C QUE NO HAYA RUSH\n",
    "            if i == 1:\n",
    "                selection = selection & cleanData.rushMorn\n",
    "            else:\n",
    "                selection = selection & cleanData.rushAftern\n",
    "\n",
    "            monthList.append(cleanData.gapInt.loc[selection])\n",
    "\n",
    "        if line == 'P' and terminal == 2:\n",
    "            break\n",
    "        \n",
    "        ax = fig.add_subplot(7, 2, plotId)\n",
    "        ax.boxplot(monthList,0, '')\n",
    "        ax.set_xticklabels(months, rotation='vertical')\n",
    "        ax.set_title(line + ' terminal ' + str(i))\n",
    "        #ax.set_facecolor(color)\n",
    "        plotId += 1"
   ]
  },
  {
   "cell_type": "code",
   "execution_count": 84,
   "metadata": {
    "collapsed": false
   },
   "outputs": [
    {
     "data": {
      "text/plain": [
       "56"
      ]
     },
     "execution_count": 84,
     "metadata": {},
     "output_type": "execute_result"
    }
   ],
   "source": [
    "7 * 8"
   ]
  },
  {
   "cell_type": "code",
   "execution_count": 98,
   "metadata": {
    "collapsed": false
   },
   "outputs": [
    {
     "ename": "TypeError",
     "evalue": "boxplot() got an unexpected keyword argument 'fill'",
     "output_type": "error",
     "traceback": [
      "\u001b[1;31m---------------------------------------------------------------------------\u001b[0m",
      "\u001b[1;31mTypeError\u001b[0m                                 Traceback (most recent call last)",
      "\u001b[1;32m<ipython-input-98-60c30e0ff6b9>\u001b[0m in \u001b[0;36m<module>\u001b[1;34m()\u001b[0m\n\u001b[1;32m----> 1\u001b[1;33m \u001b[0mplt\u001b[0m\u001b[1;33m.\u001b[0m\u001b[0mboxplot\u001b[0m\u001b[1;33m(\u001b[0m\u001b[0mrange\u001b[0m\u001b[1;33m(\u001b[0m\u001b[1;36m20\u001b[0m\u001b[1;33m)\u001b[0m\u001b[1;33m,\u001b[0m\u001b[0mfill\u001b[0m\u001b[1;33m=\u001b[0m\u001b[1;34m'red'\u001b[0m\u001b[1;33m)\u001b[0m\u001b[1;33m\u001b[0m\u001b[0m\n\u001b[0m",
      "\u001b[1;31mTypeError\u001b[0m: boxplot() got an unexpected keyword argument 'fill'"
     ]
    }
   ],
   "source": [
    "plt.boxplot(range(20),fill='lightskyblue')"
   ]
  },
  {
   "cell_type": "code",
   "execution_count": 108,
   "metadata": {
    "collapsed": false
   },
   "outputs": [
    {
     "ename": "AttributeError",
     "evalue": "'list' object has no attribute 'set_facecolor'",
     "output_type": "error",
     "traceback": [
      "\u001b[1;31m---------------------------------------------------------------------------\u001b[0m",
      "\u001b[1;31mAttributeError\u001b[0m                            Traceback (most recent call last)",
      "\u001b[1;32m<ipython-input-108-2635da42c460>\u001b[0m in \u001b[0;36m<module>\u001b[1;34m()\u001b[0m\n\u001b[0;32m      7\u001b[0m \u001b[1;33m\u001b[0m\u001b[0m\n\u001b[0;32m      8\u001b[0m \u001b[0mbox\u001b[0m \u001b[1;33m=\u001b[0m \u001b[0mplt\u001b[0m\u001b[1;33m.\u001b[0m\u001b[0mboxplot\u001b[0m\u001b[1;33m(\u001b[0m\u001b[0mrange\u001b[0m\u001b[1;33m(\u001b[0m\u001b[1;36m100\u001b[0m\u001b[1;33m)\u001b[0m\u001b[1;33m,\u001b[0m \u001b[0mpatch_artist\u001b[0m\u001b[1;33m=\u001b[0m\u001b[0mTrue\u001b[0m\u001b[1;33m)\u001b[0m\u001b[1;33m\u001b[0m\u001b[0m\n\u001b[1;32m----> 9\u001b[1;33m \u001b[0mbox\u001b[0m\u001b[1;33m[\u001b[0m\u001b[1;34m'boxes'\u001b[0m\u001b[1;33m]\u001b[0m\u001b[1;33m.\u001b[0m\u001b[0mset_facecolor\u001b[0m\u001b[1;33m(\u001b[0m\u001b[1;34m'red'\u001b[0m\u001b[1;33m)\u001b[0m\u001b[1;33m\u001b[0m\u001b[0m\n\u001b[0m\u001b[0;32m     10\u001b[0m \u001b[1;33m\u001b[0m\u001b[0m\n\u001b[0;32m     11\u001b[0m \u001b[1;33m\u001b[0m\u001b[0m\n",
      "\u001b[1;31mAttributeError\u001b[0m: 'list' object has no attribute 'set_facecolor'"
     ]
    },
    {
     "data": {
      "image/png": "[encoded data removed]",
      "text/plain": [
       "<matplotlib.figure.Figure at 0x7f688a0277d0>"
      ]
     },
     "metadata": {},
     "output_type": "display_data"
    }
   ],
   "source": [
    "fig = plt.figure(figsize=(8,6))\n",
    "ax = fig.add_subplot(1, 1, plotId)\n",
    "ax.boxplot(range(100),0, '')\n",
    "#plt.setp(ax['boxes'], color='black')\n",
    "#plt.setp(ax['whiskers'], color='black')\n",
    "#plt.setp(ax['fliers'], color='red', marker='+')\n",
    "\n",
    "box = plt.boxplot(range(100), patch_artist=True)\n",
    "box['boxes'].set_facecolor('red')\n",
    "\n",
    "                  \n",
    "#http://stackoverflow.com/questions/20289091/python-matplotlib-filled-boxplotsS"
   ]
  },
  {
   "cell_type": "code",
   "execution_count": null,
   "metadata": {
    "collapsed": true
   },
   "outputs": [],
   "source": []
  }
 ],
 "metadata": {
  "kernelspec": {
   "display_name": "Python [Root]",
   "language": "python",
   "name": "Python [Root]"
  },
  "language_info": {
   "codemirror_mode": {
    "name": "ipython",
    "version": 2
   },
   "file_extension": ".py",
   "mimetype": "text/x-python",
   "name": "python",
   "nbconvert_exporter": "python",
   "pygments_lexer": "ipython2",
   "version": "2.7.12"
  }
 },
 "nbformat": 4,
 "nbformat_minor": 0
}
